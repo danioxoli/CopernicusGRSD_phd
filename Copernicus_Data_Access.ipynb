{
 "cells": [
  {
   "cell_type": "markdown",
   "id": "dacc76ce-62d2-41d5-8c41-d58a649275fa",
   "metadata": {},
   "source": [
    "# Copernicus Data Access"
   ]
  },
  {
   "cell_type": "markdown",
   "id": "e0f99e24-a59b-4869-83db-bd8def15da1b",
   "metadata": {},
   "source": [
    "### Import Libraries"
   ]
  },
  {
   "cell_type": "code",
   "execution_count": 1,
   "id": "781a3769-0cb0-4cdb-a1c5-bd3a1c7e91f6",
   "metadata": {},
   "outputs": [
    {
     "name": "stderr",
     "output_type": "stream",
     "text": [
      "C:\\Users\\Administrator\\anaconda3\\envs\\ddust\\lib\\site-packages\\xarray\\backends\\cfgrib_.py:27: UserWarning: Failed to load cfgrib - most likely there is a problem accessing the ecCodes library. Try `import cfgrib` to get the full error message\n",
      "  warnings.warn(\n"
     ]
    }
   ],
   "source": [
    "import ee\n",
    "import geemap\n",
    "import xarray as xr\n",
    "import matplotlib.pyplot as plt\n",
    "import matplotlib.colors as colors\n",
    "import matplotlib.patches as mpatches\n",
    "import cartopy.crs as ccrs\n",
    "import cartopy.feature as cfeature\n",
    "import cdsapi\n",
    "from urllib.request import urlopen\n",
    "import ipywidgets as widgets\n",
    "import lxml\n",
    "\n",
    "import warnings\n",
    "warnings.filterwarnings('ignore')\n",
    "\n",
    "%matplotlib inline"
   ]
  },
  {
   "cell_type": "markdown",
   "id": "5025b537-686a-45d5-935f-2c15200a4309",
   "metadata": {
    "tags": []
   },
   "source": [
    "## 1 - Copernicus Marine Service (CMEMS) data from OPeNDAP API"
   ]
  },
  {
   "cell_type": "markdown",
   "id": "afdc7b6e-b0a7-4aaa-87fd-b3333ad2e1b8",
   "metadata": {},
   "source": [
    "Reference material for this Copernicus Marine data can be found here:\n",
    "- https://help.marine.copernicus.eu/en/articles/5182598-how-to-consume-the-opendap-api-and-cas-sso-using-python\n",
    "- https://www.youtube.com/watch?v=ZJoRZYiMQcM&ab_channel=CopernicusMarineService"
   ]
  },
  {
   "cell_type": "markdown",
   "id": "f8c4ddc4-ae6a-4c40-ae00-5e0744b3bcb4",
   "metadata": {},
   "source": [
    "First of all define a function able to retrieve the data from Copernicus Marine API, using OPeNDAP. The data used for this example can be accessed from [here](https://resources.marine.copernicus.eu/product-detail/MEDSEA_ANALYSISFORECAST_PHY_006_013/DATA-ACCESS):"
   ]
  },
  {
   "cell_type": "code",
   "execution_count": null,
   "id": "eac01747-692e-400b-88e7-1e8c57a24a64",
   "metadata": {},
   "outputs": [],
   "source": [
    "# #! /usr/bin/env python3\n",
    "# # -*- coding: utf-8 -*-\n",
    "# __author__ = \"Copernicus Marine User Support Team\"\n",
    "# __copyright__ = \"(C) 2022 E.U. Copernicus Marine Service Information\"\n",
    "# __credits__ = [\"E.U. Copernicus Marine Service Information\"]\n",
    "# __license__ = \"MIT License - You must cite this source\"\n",
    "# __version__ = \"202104\"\n",
    "# __maintainer__ = \"D. Bazin, E. DiMedio, C. Giordan\"\n",
    "# __email__ = \"servicedesk dot cmems at mercator hyphen ocean dot eu\"\n",
    "\n",
    "def copernicusmarine_datastore(dataset, username, password):\n",
    "    from pydap.client import open_url\n",
    "    from pydap.cas.get_cookies import setup_session\n",
    "    cas_url = 'https://cmems-cas.cls.fr/cas/login'\n",
    "    session = setup_session(cas_url, username, password)\n",
    "    session.cookies.set(\"CASTGC\", session.cookies.get_dict()['CASTGC'])\n",
    "    database = ['my', 'nrt']\n",
    "    url = f'https://{database[0]}.cmems-du.eu/thredds/dodsC/{dataset}'\n",
    "    try:\n",
    "        data_store = xr.backends.PydapDataStore(open_url(url, session=session)) # needs PyDAP >= v3.3.0 see https://github.com/pydap/pydap/pull/223/commits \n",
    "    except:\n",
    "        url = f'https://{database[1]}.cmems-du.eu/thredds/dodsC/{dataset}'\n",
    "        data_store = xr.backends.PydapDataStore(open_url(url, session=session)) # needs PyDAP >= v3.3.0 see https://github.com/pydap/pydap/pull/223/commits\n",
    "    return data_store"
   ]
  },
  {
   "cell_type": "markdown",
   "id": "b04cb313-5833-4b7c-b1ca-11c75719a56a",
   "metadata": {},
   "source": [
    "The **id** and **password** are the same used for logging in the Copernicus Marine website."
   ]
  },
  {
   "cell_type": "code",
   "execution_count": null,
   "id": "dcdd0e11-74b1-475e-bf02-c8a6f59cc078",
   "metadata": {},
   "outputs": [],
   "source": [
    "username = widgets.Text(\n",
    "    placeholder='Copernicus Marine Username',\n",
    "    description='Username:',\n",
    "    disabled=False)\n",
    "username"
   ]
  },
  {
   "cell_type": "code",
   "execution_count": null,
   "id": "55e808b3-cad7-4ac9-88a9-0abd220a4f3d",
   "metadata": {},
   "outputs": [],
   "source": [
    "password = widgets.widgets.Password(\n",
    "    placeholder='Enter password',\n",
    "    description='Copernicus Marine Password:',\n",
    "    disabled=False,)\n",
    "password"
   ]
  },
  {
   "cell_type": "code",
   "execution_count": null,
   "id": "95dd0f1a-1449-46a6-9e09-d26979f54777",
   "metadata": {},
   "outputs": [],
   "source": [
    "# Required the data using the function copernicusmarine_datastore\n",
    "data_store = copernicusmarine_datastore('med-cmcc-tem-an-fc-d', username.value, password.value)"
   ]
  },
  {
   "cell_type": "markdown",
   "id": "c3992e3b-1dbd-4660-9fc3-455f51b97f49",
   "metadata": {},
   "source": [
    "The data_store variable can be open with xarray library, using the open_dataset function:"
   ]
  },
  {
   "cell_type": "code",
   "execution_count": null,
   "id": "5ec9a8e1-7175-4216-ae7f-0e5266191f78",
   "metadata": {},
   "outputs": [],
   "source": [
    "DS = xr.open_dataset(data_store).sel(time='2021-01-01', method='nearest')\n",
    "DS"
   ]
  },
  {
   "cell_type": "markdown",
   "id": "082e5ffd-8351-4889-b89d-1af77744ce93",
   "metadata": {},
   "source": [
    "Is possible to slice the xarray dataset using lat/lon and creating a cropped dataset over the area of interest:"
   ]
  },
  {
   "cell_type": "code",
   "execution_count": null,
   "id": "8c1e25fb-5174-4cef-80b7-1db62d685418",
   "metadata": {},
   "outputs": [],
   "source": [
    "min_lon = 12\n",
    "min_lat = 40 \n",
    "max_lon = 19\n",
    "max_lat = 46 \n",
    "\n",
    "\n",
    "cropped_ds = DS.sel(lat=slice(min_lat,max_lat), lon=slice(min_lon,max_lon))\n",
    "cropped_ds"
   ]
  },
  {
   "cell_type": "markdown",
   "id": "9e257209-3089-46de-ba25-2f7a01bc1328",
   "metadata": {},
   "source": [
    "The dataset can be plotted or used for further analysis:"
   ]
  },
  {
   "cell_type": "code",
   "execution_count": null,
   "id": "e75124f8-eb88-4380-8a02-d51d575a3ef6",
   "metadata": {},
   "outputs": [],
   "source": [
    "temp_mod = cropped_ds['thetao'].sel(depth=0,method='nearest').squeeze()\n",
    "\n",
    "\n",
    "f = plt.figure(figsize=(10,8))\n",
    "ax = plt.axes(projection=ccrs.PlateCarree())\n",
    "ax.coastlines()\n",
    "gl= ax.gridlines(crs=ccrs.PlateCarree(),draw_labels=True)\n",
    "gl.right_labels=False\n",
    "gl.top_labels=False\n",
    "ax.add_feature(cfeature.LAND, zorder=1,edgecolor='k')\n",
    "ax.set_extent([11,20, 39, 46],crs=ccrs.PlateCarree())\n",
    "\n",
    "f.suptitle('Adriatic Sea surface temperature', fontsize=28)\n",
    "im = ax.pcolor(temp_mod['lon'].data,temp_mod['lat'].data, temp_mod, cmap='plasma')\n",
    "cbar= f.colorbar(im,ax=ax)\n",
    "cbar.set_label('°C', rotation =270, fontsize=23,labelpad=15)"
   ]
  },
  {
   "cell_type": "markdown",
   "id": "1785cdeb-eefb-4ce1-8025-10a2743fc7a0",
   "metadata": {},
   "source": [
    "----"
   ]
  },
  {
   "cell_type": "markdown",
   "id": "2ac19086-7349-495a-9dbd-352d82a2844d",
   "metadata": {
    "tags": []
   },
   "source": [
    "## 2- Copernicus Atmosphere Monitoring Service (CAMS) data using cdsapi library"
   ]
  },
  {
   "cell_type": "markdown",
   "id": "f240ffad-571c-441f-9081-b7810e269fb9",
   "metadata": {},
   "source": [
    "Reference: https://github.com/ecmwf/cdsapi/issues/25"
   ]
  },
  {
   "cell_type": "markdown",
   "id": "95960137-9ae4-4424-ac92-1df0b0cc83ae",
   "metadata": {},
   "source": [
    "Remeber to use the key to access CAMS API. It can be retrieved as explained at this link: https://ads.atmosphere.copernicus.eu/api-how-to."
   ]
  },
  {
   "cell_type": "code",
   "execution_count": 17,
   "id": "ad0769ec-fa56-4a65-a4e8-4686f44985a2",
   "metadata": {},
   "outputs": [
    {
     "data": {
      "application/vnd.jupyter.widget-view+json": {
       "model_id": "2501028ae2d44593b63407e773579e10",
       "version_major": 2,
       "version_minor": 0
      },
      "text/plain": [
       "Text(value='', description='Key:', placeholder='ADS API KEY')"
      ]
     },
     "metadata": {},
     "output_type": "display_data"
    }
   ],
   "source": [
    "ads_api_key = widgets.Text(\n",
    "    placeholder='ADS API KEY',\n",
    "    description='Key:',\n",
    "    disabled=False)\n",
    "ads_api_key"
   ]
  },
  {
   "cell_type": "code",
   "execution_count": 20,
   "id": "06b88dad-c04e-4f9b-8824-e78b2e325749",
   "metadata": {},
   "outputs": [],
   "source": [
    "c = cdsapi.Client(\"https://ads.atmosphere.copernicus.eu/api/v2\", ads_api_key.value) #change ads_key"
   ]
  },
  {
   "cell_type": "markdown",
   "id": "f767452e-2fb9-4380-b0fd-82541f2d5725",
   "metadata": {},
   "source": [
    "It is possible to define the download parameters using the tab form provided by CAMS (https://ads.atmosphere.copernicus.eu/cdsapp#!/dataset/cams-europe-air-quality-forecasts?tab=form) and pass them to the **retrive** function of the cdsapi library."
   ]
  },
  {
   "cell_type": "code",
   "execution_count": 21,
   "id": "82bfac69-8639-404c-aab8-23e1bd57d9bd",
   "metadata": {},
   "outputs": [
    {
     "name": "stderr",
     "output_type": "stream",
     "text": [
      "2022-05-13 17:25:44,513 INFO Welcome to the CDS\n",
      "2022-05-13 17:25:44,514 INFO Sending request to https://ads.atmosphere.copernicus.eu/api/v2/resources/cams-europe-air-quality-forecasts\n",
      "2022-05-13 17:25:44,669 INFO Request is queued\n",
      "2022-05-13 17:25:45,708 INFO Request is running\n",
      "2022-05-13 17:25:47,229 INFO Request is completed\n"
     ]
    }
   ],
   "source": [
    "# API request\n",
    "params = {'format': 'netcdf',\n",
    "        'variable': 'particulate_matter_2.5um',\n",
    "        'model': 'ensemble',\n",
    "        'date': '2022-04-18/2022-04-20',\n",
    "        'level': '0',\n",
    "        'type': 'analysis',\n",
    "        'time':'00:00',\n",
    "        'leadtime_hour': 0,\n",
    "        'area': [48,6, 43, 13]}\n",
    "\n",
    "# retrieve the location of the file\n",
    "fl = c.retrieve('cams-europe-air-quality-forecasts', params) \n",
    "\n",
    "# load into memory \n",
    "with urlopen(fl.location) as f:\n",
    "    ds = xr.open_dataset(f.read()).mean(dim='time')"
   ]
  },
  {
   "cell_type": "markdown",
   "id": "c143fba7-be2b-434d-bd9c-98f669d86727",
   "metadata": {},
   "source": [
    "The CAMS dataset can be plotted as follow:"
   ]
  },
  {
   "cell_type": "code",
   "execution_count": 22,
   "id": "03364b27-5031-4057-9a93-86f7e31d7a37",
   "metadata": {},
   "outputs": [
    {
     "data": {
      "image/png": "[encoded data removed]",
      "text/plain": [
       "<Figure size 720x576 with 2 Axes>"
      ]
     },
     "metadata": {
      "needs_background": "light"
     },
     "output_type": "display_data"
    }
   ],
   "source": [
    "pm_mod = ds['pm2p5_conc'].sel(level=0,method='nearest').squeeze()\n",
    "\n",
    "\n",
    "f = plt.figure(figsize=(10,8))\n",
    "ax = plt.axes(projection=ccrs.PlateCarree())\n",
    "ax.coastlines()\n",
    "gl= ax.gridlines(crs=ccrs.PlateCarree(),draw_labels=True)\n",
    "gl.right_labels=False\n",
    "gl.top_labels=False\n",
    "ax.add_feature(cfeature.LAND, zorder=1,edgecolor='k')\n",
    "ax.set_extent([5,14, 42, 49],crs=ccrs.PlateCarree())\n",
    "\n",
    "f.suptitle('Po Valley PM2.5', fontsize=28)\n",
    "im = ax.pcolor(pm_mod['longitude'].data,pm_mod['latitude'].data, pm_mod, cmap='plasma')\n",
    "cbar= f.colorbar(im,ax=ax)\n",
    "cbar.set_label('Concentration', rotation =270, fontsize=23,labelpad=15)"
   ]
  },
  {
   "cell_type": "markdown",
   "id": "0e2c111f-3449-4cf7-af7e-ad0651f3b8ee",
   "metadata": {},
   "source": [
    "----"
   ]
  },
  {
   "cell_type": "markdown",
   "id": "e3776a13-97ce-4dc5-9d7c-da1d1816e919",
   "metadata": {},
   "source": [
    "## 3 - Copernicus Emergency Management Service (CEMS) data using cdsapi library"
   ]
  },
  {
   "cell_type": "markdown",
   "id": "566c7370-f051-4ddb-b4cf-b41fd67bb252",
   "metadata": {},
   "source": [
    "Remember to use the key from C3S: https://cds.climate.copernicus.eu/api-how-to"
   ]
  },
  {
   "cell_type": "code",
   "execution_count": 24,
   "id": "656d306e-7baf-4918-9a9e-21db76851a44",
   "metadata": {},
   "outputs": [
    {
     "data": {
      "application/vnd.jupyter.widget-view+json": {
       "model_id": "c08f0bcb5194436e8bf60d60a86984b1",
       "version_major": 2,
       "version_minor": 0
      },
      "text/plain": [
       "Text(value='', description='Key:', placeholder='ADS API KEY')"
      ]
     },
     "metadata": {},
     "output_type": "display_data"
    }
   ],
   "source": [
    "cds_api_key = widgets.Text(\n",
    "    placeholder='ADS API KEY',\n",
    "    description='Key:',\n",
    "    disabled=False)\n",
    "cds_api_key"
   ]
  },
  {
   "cell_type": "code",
   "execution_count": 25,
   "id": "7cb2dd73-8793-4e80-9344-9fa89b9213c6",
   "metadata": {},
   "outputs": [],
   "source": [
    "c = cdsapi.Client(\"https://cds.climate.copernicus.eu/api/v2\", cds_api_key.value) #change ads_key"
   ]
  },
  {
   "cell_type": "code",
   "execution_count": null,
   "id": "ef133d21-4843-4df6-9680-1a7f6b08b7c8",
   "metadata": {},
   "outputs": [
    {
     "name": "stderr",
     "output_type": "stream",
     "text": [
      "2022-05-13 17:50:22,980 INFO Welcome to the CDS\n",
      "2022-05-13 17:50:22,981 INFO Sending request to https://cds.climate.copernicus.eu/api/v2/resources/efas-historical\n"
     ]
    }
   ],
   "source": [
    "# API request\n",
    "params = {\n",
    "        'variable': 'river_discharge_in_the_last_24_hours',\n",
    "        'format': 'grib',\n",
    "        'system_version': 'operational',\n",
    "        'hydrological_model': 'lisflood',\n",
    "        'year': '2021',\n",
    "        'month': '08',\n",
    "        'leadtime_hour': '24',\n",
    "        'area': [\n",
    "            50, 0, 35,\n",
    "            12,\n",
    "        ],\n",
    "    }\n",
    "\n",
    "# retrieve the location of the file\n",
    "fl = c.retrieve('efas-historical', params) \n",
    "\n",
    "# load into memory \n",
    "with urlopen(fl.location) as f:\n",
    "    ds = xr.open_dataset(f.read()).mean(dim='time')"
   ]
  },
  {
   "cell_type": "code",
   "execution_count": null,
   "id": "0cb6d5ff-b5c0-4128-9399-0b6fdd921204",
   "metadata": {},
   "outputs": [],
   "source": [
    "ds"
   ]
  },
  {
   "cell_type": "code",
   "execution_count": null,
   "id": "777d27cd-9e9c-48e3-8d89-2038e12d6b24",
   "metadata": {},
   "outputs": [],
   "source": [
    "cems_floods = ds['pm2p5_conc'].sel(level=0,method='nearest').squeeze()\n",
    "\n",
    "\n",
    "f = plt.figure(figsize=(10,8))\n",
    "ax = plt.axes(projection=ccrs.PlateCarree())\n",
    "ax.coastlines()\n",
    "gl= ax.gridlines(crs=ccrs.PlateCarree(),draw_labels=True)\n",
    "gl.right_labels=False\n",
    "gl.top_labels=False\n",
    "ax.add_feature(cfeature.LAND, zorder=1,edgecolor='k')\n",
    "ax.set_extent([5,14, 42, 49],crs=ccrs.PlateCarree())\n",
    "\n",
    "f.suptitle('Po Valley PM2.5', fontsize=28)\n",
    "im = ax.pcolor(pm_mod['longitude'].data,pm_mod['latitude'].data, pm_mod, cmap='plasma')\n",
    "cbar= f.colorbar(im,ax=ax)\n",
    "cbar.set_label('Concentration', rotation =270, fontsize=23,labelpad=15)"
   ]
  },
  {
   "cell_type": "markdown",
   "id": "e4699ab8-388a-4455-8665-633ff528112f",
   "metadata": {},
   "source": [
    "----"
   ]
  },
  {
   "cell_type": "markdown",
   "id": "579ac369-5c93-4905-aa86-e377a68ba4f9",
   "metadata": {
    "tags": []
   },
   "source": [
    "## 4 - ERA5 - Copernicus Climate Change Service (C3S) Data from Google Earth Engine"
   ]
  },
  {
   "cell_type": "markdown",
   "id": "999ae6c2-45e8-470f-8030-5e767660eb5b",
   "metadata": {},
   "source": [
    "To access Google Earth Engine is necessary to have a Google account. Then is possible to Authenticate and Inizialize the session:"
   ]
  },
  {
   "cell_type": "code",
   "execution_count": null,
   "id": "419b1974-6869-4ea5-ac05-8273cb063ba5",
   "metadata": {},
   "outputs": [],
   "source": [
    "ee.Authenticate()"
   ]
  },
  {
   "cell_type": "code",
   "execution_count": null,
   "id": "41d9e203-e6d4-480d-8a41-e0904a8c7bc8",
   "metadata": {},
   "outputs": [],
   "source": [
    "ee.Initialize()"
   ]
  },
  {
   "cell_type": "markdown",
   "id": "6a062fa3-0ba0-48be-98c7-2bb7ec4fa958",
   "metadata": {},
   "source": [
    "An equivalent procedure can be followed for [ERA5 data](https://developers.google.com/earth-engine/datasets/catalog/ECMWF_ERA5_LAND_HOURLY?hl=en) available on Google Earth Engine Catalog. First we show a map:"
   ]
  },
  {
   "cell_type": "code",
   "execution_count": null,
   "id": "2adc4b6a-cdcc-4029-a40c-624fa12134e7",
   "metadata": {},
   "outputs": [],
   "source": [
    "Map_era5 = geemap.Map(center=[45.5,10], zoom = 5 )\n",
    "Map_era5"
   ]
  },
  {
   "cell_type": "code",
   "execution_count": null,
   "id": "29da7534-7214-4513-9a4f-1374c091b459",
   "metadata": {},
   "outputs": [],
   "source": [
    "# Daily mean 2m air temperature\n",
    "temp_2m = ee.ImageCollection('ECMWF/ERA5_LAND/HOURLY')\\\n",
    "                   .select('temperature_2m')\\\n",
    "                   .filter(ee.Filter.date('2021-07-02'))\n",
    "\n",
    "temp_2m_clip = temp_2m.mean()"
   ]
  },
  {
   "cell_type": "code",
   "execution_count": null,
   "id": "559525d2-a9d9-47b7-ba42-10a32453d5ee",
   "metadata": {},
   "outputs": [],
   "source": [
    "# Visualization palette for mean temperature at 2m\n",
    "import geemap.colormaps as cm\n",
    "palette = cm.get_palette('coolwarm', n_class=8)\n",
    "cm.plot_colormap('coolwarm', width=8.0, height=0.4, orientation='horizontal')\n",
    "temp_2m_viz  = {\n",
    "  'min': 280,\n",
    "  'max': 300,\n",
    "  'palette': palette\n",
    "};"
   ]
  },
  {
   "cell_type": "code",
   "execution_count": null,
   "id": "cd8a9330-9497-4ca7-8d7a-e7a5f6086b07",
   "metadata": {},
   "outputs": [],
   "source": [
    "Map_era5.addLayer(temp_2m_clip, temp_2m_viz, '2m temperature');\n",
    "Map_era5.add_colorbar(temp_2m_viz, label=\"°C\", layer_name=\"°C\")"
   ]
  },
  {
   "cell_type": "markdown",
   "id": "2b3727e5-d86e-48c2-984a-80cccaf91118",
   "metadata": {},
   "source": [
    "----"
   ]
  },
  {
   "cell_type": "markdown",
   "id": "aa00c371-bb92-4aca-b662-abb1aa77d7cb",
   "metadata": {
    "tags": []
   },
   "source": [
    "## 5 - Copernicus Land Monitoring Service (CLMS) from Google Earth Engine"
   ]
  },
  {
   "cell_type": "markdown",
   "id": "a7d2c08e-fda6-4605-ad67-70c438845198",
   "metadata": {},
   "source": [
    "As a first step it is possible to create a map and show the data:"
   ]
  },
  {
   "cell_type": "code",
   "execution_count": null,
   "id": "42689c29-6dec-492c-8675-7276b0c8dfd6",
   "metadata": {},
   "outputs": [],
   "source": [
    "#Create a map\n",
    "Map= geemap.Map(center=[44,10], zoom = 5 )\n",
    "Map"
   ]
  },
  {
   "cell_type": "markdown",
   "id": "9378f4bb-c5a8-4583-add5-6ee1feb62924",
   "metadata": {},
   "source": [
    "In this example Copernicus Land Cover data are used. The dataset can be accessed from [here](https://developers.google.com/earth-engine/datasets/catalog/COPERNICUS_Landcover_100m_Proba-V-C3_Global)."
   ]
  },
  {
   "cell_type": "code",
   "execution_count": null,
   "id": "267df8de-6dcc-4dbb-9c11-393ece6817e2",
   "metadata": {},
   "outputs": [],
   "source": [
    "#Access Copernicus Land Cover classification 2019\n",
    "lc = ee.Image('COPERNICUS/Landcover/100m/Proba-V-C3/Global/2019')\\\n",
    "    .select('discrete_classification')"
   ]
  },
  {
   "cell_type": "markdown",
   "id": "b6fa3a9c-72d6-4acf-836f-a17cf24b4552",
   "metadata": {},
   "source": [
    "Then a region of interest can be selected and used for clipping the data:"
   ]
  },
  {
   "cell_type": "code",
   "execution_count": null,
   "id": "d0082a7f-9996-49f9-bdd6-75a7956f7c3a",
   "metadata": {},
   "outputs": [],
   "source": [
    "#Clip over the ROI previously defined\n",
    "roi = ee.Geometry.BBox(3, 35, 20, 50)\n",
    "lc_clip = lc.clip(roi)\n",
    "Map.addLayer(lc_clip, {}, 'Land Cover');\n",
    "Map.add_legend(builtin_legend='COPERNICUS/Landcover/100m/Proba-V/Global')"
   ]
  },
  {
   "cell_type": "code",
   "execution_count": null,
   "id": "70540530-1507-487b-94df-0c09a23dc85d",
   "metadata": {},
   "outputs": [],
   "source": [
    "# #To get information about the data\n",
    "# props = geemap.image_props(lc)\n",
    "# props.getInfo()"
   ]
  }
 ],
 "metadata": {
  "kernelspec": {
   "display_name": "Python 3 (ipykernel)",
   "language": "python",
   "name": "python3"
  },
  "language_info": {
   "codemirror_mode": {
    "name": "ipython",
    "version": 3
   },
   "file_extension": ".py",
   "mimetype": "text/x-python",
   "name": "python",
   "nbconvert_exporter": "python",
   "pygments_lexer": "ipython3",
   "version": "3.9.10"
  }
 },
 "nbformat": 4,
 "nbformat_minor": 5
}
